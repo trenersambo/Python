{
 "cells": [
  {
   "cell_type": "code",
   "execution_count": 39,
   "metadata": {},
   "outputs": [],
   "source": [
    "import math\n",
    "from sympy import *\n",
    "from sympy.plotting import plot"
   ]
  },
  {
   "cell_type": "code",
   "execution_count": 40,
   "metadata": {},
   "outputs": [
    {
     "data": {
      "text/plain": "5*x**2 + 10*x - 150",
      "text/latex": "$\\displaystyle 5 x^{2} + 10 x - 150$"
     },
     "execution_count": 40,
     "metadata": {},
     "output_type": "execute_result"
    }
   ],
   "source": [
    "x = Symbol('x')\n",
    "fx = 5 * x ** 2 + 10 * x - 150\n",
    "fx"
   ]
  },
  {
   "cell_type": "code",
   "execution_count": 41,
   "outputs": [
    {
     "name": "stdout",
     "output_type": "stream",
     "text": [
      "-1 + sqrt(31) -sqrt(31) - 1\n"
     ]
    }
   ],
   "source": [
    "sq = solve(fx)  # корни\n",
    "print(*sq)"
   ],
   "metadata": {
    "collapsed": false
   }
  },
  {
   "cell_type": "code",
   "execution_count": 42,
   "metadata": {},
   "outputs": [
    {
     "name": "stdout",
     "output_type": "stream",
     "text": [
      "(-1 < x) & (x < oo)\n"
     ]
    }
   ],
   "source": [
    "#  Найти интервалы, на которых функция возрастает\n",
    "\n",
    "\n",
    "print(solve(0 < diff(fx)))"
   ]
  },
  {
   "cell_type": "code",
   "execution_count": 43,
   "outputs": [
    {
     "name": "stdout",
     "output_type": "stream",
     "text": [
      "(-oo < x) & (x < -1)\n"
     ]
    }
   ],
   "source": [
    " # интервалы, на которых функция убывает\n",
    "\n",
    "print(solve(diff(fx) < 0))"
   ],
   "metadata": {
    "collapsed": false
   }
  },
  {
   "cell_type": "code",
   "execution_count": 44,
   "outputs": [
    {
     "name": "stdout",
     "output_type": "stream",
     "text": [
      "-1 + sqrt(31)\n"
     ]
    }
   ],
   "source": [
    "# Вычислить вершину\n",
    "corni = solve(fx)\n",
    "apex = corni[0]\n",
    "x = apex\n",
    "y = -8 * x ** 2 + 3 * x + 17\n",
    "print(apex)"
   ],
   "metadata": {
    "collapsed": false
   }
  },
  {
   "cell_type": "code",
   "execution_count": 45,
   "outputs": [
    {
     "name": "stdout",
     "output_type": "stream",
     "text": [
      "    450 |                                                      /\n",
      "        |                                                     . \n",
      "        |                                                       \n",
      "        |                                                    .  \n",
      "        |                                                   /   \n",
      "        |                                                  /    \n",
      "        |                                                 /     \n",
      "        |\\                                               /      \n",
      "        | \\                                             /       \n",
      "        |  \\                                           /        \n",
      "    150 |---\\-----------------------------------------/---------\n",
      "        |    \\                                       /          \n",
      "        |     \\                                     /           \n",
      "        |      ..                                  /            \n",
      "        |        \\                                /             \n",
      "        |         ..                            ..              \n",
      "        |           \\                         ..                \n",
      "        |            ..                      /                  \n",
      "        |              ..                 ...                   \n",
      "        |                ...           ...                      \n",
      "   -150 |_______________________________________________________\n",
      "         -10                        0                          10\n"
     ]
    },
    {
     "data": {
      "text/plain": "<sympy.plotting.plot.Plot at 0x19cdbea4bd0>"
     },
     "execution_count": 45,
     "metadata": {},
     "output_type": "execute_result"
    }
   ],
   "source": [
    "# 4 Построить график\n",
    "plot(fx, (x, -10, 10))"
   ],
   "metadata": {
    "collapsed": false
   }
  },
  {
   "cell_type": "code",
   "execution_count": 46,
   "outputs": [
    {
     "data": {
      "text/plain": "((x < oo) & (-1 + sqrt(31) < x)) | ((-oo < x) & (x < -sqrt(31) - 1))",
      "text/latex": "$\\displaystyle \\left(-\\infty < x \\wedge x < - \\sqrt{31} - 1\\right) \\vee \\left(x < \\infty \\wedge -1 + \\sqrt{31} < x\\right)$"
     },
     "execution_count": 46,
     "metadata": {},
     "output_type": "execute_result"
    }
   ],
   "source": [
    "# Определить промежутки, на котором f > 0\n",
    "\n",
    "solve(0 < fx)\n",
    "\n"
   ],
   "metadata": {
    "collapsed": false
   }
  },
  {
   "cell_type": "code",
   "execution_count": 47,
   "outputs": [
    {
     "data": {
      "text/plain": "(x < -1 + sqrt(31)) & (-sqrt(31) - 1 < x)",
      "text/latex": "$\\displaystyle x < -1 + \\sqrt{31} \\wedge - \\sqrt{31} - 1 < x$"
     },
     "execution_count": 47,
     "metadata": {},
     "output_type": "execute_result"
    }
   ],
   "source": [
    "# Определить промежутки, на котором f < 0\n",
    "\n",
    "solve(fx < 0)"
   ],
   "metadata": {
    "collapsed": false
   }
  },
  {
   "cell_type": "code",
   "execution_count": 47,
   "outputs": [],
   "source": [],
   "metadata": {
    "collapsed": false
   }
  }
 ],
 "metadata": {
  "kernelspec": {
   "display_name": "Python 3 (ipykernel)",
   "language": "python",
   "name": "python3"
  },
  "language_info": {
   "codemirror_mode": {
    "name": "ipython",
    "version": 3
   },
   "file_extension": ".py",
   "mimetype": "text/x-python",
   "name": "python",
   "nbconvert_exporter": "python",
   "pygments_lexer": "ipython3",
   "version": "3.11.1"
  }
 },
 "nbformat": 4,
 "nbformat_minor": 1
}
